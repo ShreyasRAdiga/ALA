{
 "cells": [
  {
   "cell_type": "code",
   "execution_count": 2,
   "metadata": {},
   "outputs": [],
   "source": [
    "import numpy as np\n",
    "import pandas as pd\n",
    "import matplotlib.pyplot as plt\n",
    "from sklearn.cluster import AgglomerativeClustering"
   ]
  },
  {
   "cell_type": "code",
   "execution_count": 5,
   "metadata": {},
   "outputs": [],
   "source": [
    "#Adding patients data\n",
    "patient1 = [76,126,38.0]\n",
    "patient2 =[74,120,38.0]\n",
    "patient3 = [72,118,37.5]\n",
    "patient4 = [78,136,37.0]"
   ]
  },
  {
   "cell_type": "markdown",
   "metadata": {},
   "source": [
    "**Visualize the data in graph**"
   ]
  },
  {
   "cell_type": "code",
   "execution_count": 9,
   "metadata": {},
   "outputs": [
    {
     "data": {
      "image/png": "[encoded data removed]",
      "text/plain": [
       "<Figure size 640x480 with 1 Axes>"
      ]
     },
     "metadata": {},
     "output_type": "display_data"
    }
   ],
   "source": [
    "#lets visualize the data in graph\n",
    "data = np.array([\n",
    "    patient1,patient2,patient3,patient4\n",
    "])\n",
    "\n",
    "# Perform hierarchical clustering\n",
    "n_clusters = 4  # Number of clusters\n",
    "cluster_model = AgglomerativeClustering(n_clusters=n_clusters)\n",
    "cluster_labels = cluster_model.fit_predict(data)\n",
    "\n",
    "# Create a scatter plot for the clusters\n",
    "plt.scatter(data[:, 0], data[:, 1], c=cluster_labels, cmap='rainbow')\n",
    "plt.title('Patient Clusters')\n",
    "plt.xlabel('Heart Rate')\n",
    "plt.ylabel('Blood Pressure')\n",
    "plt.show()"
   ]
  },
  {
   "cell_type": "markdown",
   "metadata": {},
   "source": [
    "**Which patient is farthest from the rest?**"
   ]
  },
  {
   "cell_type": "code",
   "execution_count": 16,
   "metadata": {},
   "outputs": [
    {
     "name": "stdout",
     "output_type": "stream",
     "text": [
      "Patient 4 have the greatest distance: 18.980252896102307\n"
     ]
    }
   ],
   "source": [
    "# Which patient is farthest from the rest?\n",
    "sum = data[0] - data[1]\n",
    "# print(data[0])\n",
    "# print(data[1])\n",
    "# sum_sq =  np.dot(sum.T,sum)\n",
    "# print(np.sqrt(sum_sq))\n",
    "\n",
    "num_points = data.shape[0]\n",
    "\n",
    "# Initialize variables to store the minimum and maximum distances and their corresponding pairs\n",
    "min_distance = float('inf')\n",
    "max_distance = 0\n",
    "min_distance_indices = (-1, -1)\n",
    "max_distance_indices = (-1, -1)\n",
    "\n",
    "# Calculate Euclidean distances using nested loops\n",
    "for i in range(num_points):\n",
    "    for j in range(i + 1, num_points):\n",
    "        distance = np.sqrt(np.sum((data[i] - data[j]) ** 2))\n",
    "        if distance < min_distance:\n",
    "            min_distance = distance\n",
    "            min_distance_indices = (i, j)\n",
    "        if distance > max_distance:\n",
    "            max_distance = distance\n",
    "            max_distance_indices = (i, j)\n",
    "\n",
    "\n",
    "\n",
    "# Print the patient farthest from the rest\n",
    "print(\"Patient\", max_distance_indices[1] + 1,\"have the greatest distance:\", max_distance)"
   ]
  },
  {
   "cell_type": "markdown",
   "metadata": {},
   "source": [
    "**Which two patients are nearest?**"
   ]
  },
  {
   "cell_type": "code",
   "execution_count": 18,
   "metadata": {},
   "outputs": [
    {
     "name": "stdout",
     "output_type": "stream",
     "text": [
      "Patient 2 and Patient 3 are nearest.\n",
      "Distance: 2.8722813232690143\n"
     ]
    }
   ],
   "source": [
    "# Which two patients are nearest?\n",
    "# Calculate pairwise distances\n",
    "distances = np.sqrt(np.sum((data[:, np.newaxis] - data) ** 2, axis=2))\n",
    "\n",
    "# Find the indices of the two patients with the smallest non-zero distance\n",
    "min_distance = np.min(distances[distances > 0])  # Find smallest non-zero distance\n",
    "indices = np.where(distances == min_distance)\n",
    "patient1_index, patient2_index = indices[0][0], indices[1][0]\n",
    "\n",
    "# Print the two patients who are nearest to each other\n",
    "print(\"Patient\", patient1_index + 1, \"and Patient\", patient2_index + 1, \"are nearest.\")\n",
    "print(\"Distance:\", min_distance)"
   ]
  },
  {
   "cell_type": "markdown",
   "metadata": {},
   "source": [
    "**Create a new dummy patient, and then find which is the closest patient?**"
   ]
  },
  {
   "cell_type": "code",
   "execution_count": 22,
   "metadata": {},
   "outputs": [
    {
     "name": "stdout",
     "output_type": "stream",
     "text": [
      "The closest patient to the new dummy patient is Patient 1\n",
      "Distance: 4.127953488110059\n"
     ]
    }
   ],
   "source": [
    "#Create a new dummy patient, and then find which is the closest patient?\n",
    "\n",
    "# Calculate pairwise distances between existing patients\n",
    "distances = np.sqrt(np.sum((data[:, np.newaxis] - data) ** 2, axis=2))\n",
    "\n",
    "# Create a new dummy patient\n",
    "new_dummy_patient = np.array([75, 130, 37.8])\n",
    "\n",
    "# Calculate distances between the new dummy patient and existing patients\n",
    "new_patient_distances = np.sqrt(np.sum((data - new_dummy_patient) ** 2, axis=1))\n",
    "\n",
    "# Find the index of the closest patient to the new dummy patient\n",
    "closest_patient_index = np.argmin(new_patient_distances)\n",
    "\n",
    "# Print the closest patient to the new dummy patient\n",
    "print(\"The closest patient to the new dummy patient is Patient\", closest_patient_index + 1)\n",
    "print(\"Distance:\", new_patient_distances[closest_patient_index])"
   ]
  },
  {
   "cell_type": "markdown",
   "metadata": {},
   "source": [
    "**1. What is the time complexity of this operation of finding the closest two and farthest patients? Specify using BigO notation.**\n",
    "\n",
    "**Solution:**\n",
    "\n",
    "1. **Calculating Pairwise Distances:** To calculate pairwise distances, nested loops must compare each patient to every other patient, omitting the patient being compared with. Let's write n for the number of patients.\n",
    "\n",
    "    1. We must compare each patient with every other patient in order to identify the two patients who are closest to one another. This entails calculating distances by around n * (n-1) factors.\n",
    "\n",
    "    2. Similar calculations requiring approximately n * (n-1) distances are required to determine which two patients are the furthest apart.\n",
    "    \n",
    "2. **Finding the Closest and Farthest Patients:** After computing all pairwise distances, it is necessary to linearly scan through the distances, which requires an O(n) amount of time.\n",
    "    * Obtaining the Closest Two: O(n * n)\n",
    "    * Obtaining the Farthest Two: O(n * n)\n",
    "\n",
    "Both of these processes have an O(n2) time complexity in Big O notation, where n is the total number of patients. With more patients, the time complexity climbs quadratically, which could be inefficient for big datasets.\n",
    "\n"
   ]
  },
  {
   "cell_type": "markdown",
   "metadata": {},
   "source": [
    "**2.  Can you name one practical use of such a simple technique when about 100s of features are available and\n",
    "thousands of patient data is available?**\n",
    "\n",
    "**Solution:**\n",
    "\n",
    "Educational Program Recommendation:\n",
    "    1. Feature Selection : Collection of students datacdemic performance.\n",
    "    2. Student Similarity : Students with same name, parents name."
   ]
  }
 ],
 "metadata": {
  "kernelspec": {
   "display_name": "Python 3",
   "language": "python",
   "name": "python3"
  },
  "language_info": {
   "codemirror_mode": {
    "name": "ipython",
    "version": 3
   },
   "file_extension": ".py",
   "mimetype": "text/x-python",
   "name": "python",
   "nbconvert_exporter": "python",
   "pygments_lexer": "ipython3",
   "version": "3.9.17"
  },
  "orig_nbformat": 4
 },
 "nbformat": 4,
 "nbformat_minor": 2
}
