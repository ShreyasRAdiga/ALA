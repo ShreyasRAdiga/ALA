{
 "cells": [
  {
   "cell_type": "code",
   "execution_count": null,
   "metadata": {},
   "outputs": [],
   "source": [
    "import pandas as pd\n",
    "import numpy as np\n",
    "\n",
    "# Load the dataset\n",
    "data = pd.read_csv('moviereviews.csv')  # Update with the actual file path\n",
    "\n",
    "word_vectors = {}  # Dictionary mapping words to their respective vectors\n",
    "\n",
    "# Create a dictionary to store movie review vectors\n",
    "movie_vectors = {}\n",
    "\n",
    "# Iterate through the dataset to calculate movie review vectors\n",
    "for index, row in data.iterrows():\n",
    "    movie = row['movie']\n",
    "    review = row['review'].split()\n",
    "    vector = np.zeros(300)  # Assuming 300-dimensional word vectors\n",
    "    for word in review:\n",
    "        if word in word_vectors:\n",
    "            vector += word_vectors[word]\n",
    "    movie_vectors[movie] = vector\n",
    "\n",
    "# Calculate the dot products between movie vectors\n",
    "dot_products = {}\n",
    "for movie1 in movie_vectors:\n",
    "    for movie2 in movie_vectors:\n",
    "        if movie1 != movie2:\n",
    "            dot_products[(movie1, movie2)] = np.dot(movie_vectors[movie1], movie_vectors[movie2])\n",
    "\n",
    "# Calculate the cosine similarity and find the top 3 pairs of movies\n",
    "top_pairs = sorted(dot_products.items(), key=lambda x: x[1], reverse=True)[:3]\n",
    "\n",
    "# Print the top 3 similar pairs of movies\n",
    "for pair, similarity in top_pairs:\n",
    "    movie1, movie2 = pair\n",
    "    print(f\"Pair: {movie1} - {movie2}, Similarity: {similarity}\")\n"
   ]
  }
 ],
 "metadata": {
  "kernelspec": {
   "display_name": "aimlsem1",
   "language": "python",
   "name": "python3"
  },
  "language_info": {
   "name": "python",
   "version": "3.9.17"
  },
  "orig_nbformat": 4
 },
 "nbformat": 4,
 "nbformat_minor": 2
}
